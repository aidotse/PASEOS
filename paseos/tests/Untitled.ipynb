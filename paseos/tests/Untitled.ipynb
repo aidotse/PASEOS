{
 "cells": [
  {
   "cell_type": "code",
   "execution_count": 1,
   "id": "94de23e1",
   "metadata": {},
   "outputs": [],
   "source": [
    "import numpy as np\n",
    "import pykep as pk\n",
    "import sys\n",
    "sys.path.append(\"../..\")\n",
    "import paseos\n",
    "from paseos import ActorBuilder, SpacecraftActor\n",
    "from paseos.utils.reference_frame_transfer import eci_to_rpy, rpy_to_body"
   ]
  },
  {
   "cell_type": "code",
   "execution_count": 2,
   "id": "9aa397e6",
   "metadata": {},
   "outputs": [],
   "source": [
    "def flux_density_vector(actor, frame=\"eci\"):\n",
    "        \"\"\"Function to calculate the local magnetic field flux density vector (B) at the actor's location.\n",
    "        B vector is calculated multiple times. Use of this function for code clarity.\n",
    "\n",
    "        Args:\n",
    "            actor (SpacecraftActor): Spacecraft actor\n",
    "            frame (string): B expressed in which frame (actor body frame or Earth-centered inertial frame)\n",
    "\n",
    "        Returns: B vector (np.ndarray)\n",
    "        \"\"\"\n",
    "        # get Earth B vector at specific timestep\n",
    "        # Earth magnetic dipole moment:\n",
    "        m_earth = actor.central_body.magnetic_dipole_moment(actor.local_time)\n",
    "\n",
    "        # parameters to calculate local B vector:\n",
    "        actor_position = np.array(actor.get_position(actor.local_time))\n",
    "        r = np.linalg.norm(actor_position)\n",
    "        r_hat = actor_position / r\n",
    "\n",
    "        # local B vector:\n",
    "        B = 1e-7 * (3 * np.dot(m_earth, r_hat) * r_hat - m_earth) / (r**3)\n",
    "        if frame == \"eci\":\n",
    "            # return B vector in ECI frame\n",
    "            return B\n",
    "        elif frame == \"body\":\n",
    "            # transform B vector to the actor body frame and return\n",
    "            actor_velocity = np.array(actor.get_position_velocity(actor.local_time)[1])\n",
    "            actor_attitude = np.array(actor.attitude_in_rad)\n",
    "            return rpy_to_body(\n",
    "                eci_to_rpy(B, actor_position, actor_velocity), actor_attitude\n",
    "            )"
   ]
  },
  {
   "cell_type": "code",
   "execution_count": 3,
   "id": "d8821821",
   "metadata": {},
   "outputs": [],
   "source": [
    "# Define central body\n",
    "earth = pk.planet.jpl_lp(\"earth\")\n",
    "\n",
    "# Define spacecraft actors\n",
    "# magnetic:\n",
    "sat1 = ActorBuilder.get_actor_scaffold(\"sat1\", SpacecraftActor, pk.epoch(0))\n",
    "# non-magnetic:\n",
    "sat2 = ActorBuilder.get_actor_scaffold(\"sat2\", SpacecraftActor, pk.epoch(0))\n",
    "\n",
    "# Geostationary orbital parameters:\n",
    "r = 6371000 + 35786000  # radius [km]\n",
    "v = 3074.66  # velocity [m/s]\n",
    "\n",
    "# To have a more symmetric case, let the actors be on same longitude as Earth magnetic dipole vector\n",
    "longitude = -71.6 * np.pi / 180\n",
    "\n",
    "# Set orbits:\n",
    "ActorBuilder.set_orbit(\n",
    "    sat1,\n",
    "    position=[\n",
    "        r * np.cos(np.pi / 2 + longitude),\n",
    "        r * np.sin(np.pi / 2 + longitude),\n",
    "        0,\n",
    "    ],\n",
    "    velocity=[\n",
    "        -v * np.sin(np.pi / 2 + longitude),\n",
    "        v * np.cos(np.pi / 2 + longitude),\n",
    "        0,\n",
    "    ],\n",
    "    epoch=pk.epoch(0),\n",
    "    central_body=earth,\n",
    ")\n",
    "ActorBuilder.set_orbit(\n",
    "    sat2,\n",
    "    position=[\n",
    "        r * np.cos(np.pi / 2 + longitude),\n",
    "        r * np.sin(np.pi / 2 + longitude),\n",
    "        0,\n",
    "    ],\n",
    "    velocity=[\n",
    "        -v * np.sin(np.pi / 2 + longitude),\n",
    "        v * np.cos(np.pi / 2 + longitude),\n",
    "        0,\n",
    "    ],\n",
    "    epoch=pk.epoch(0),\n",
    "    central_body=earth,\n",
    ")\n",
    "\n",
    "# Set geometric model\n",
    "ActorBuilder.set_spacecraft_body_model(sat1, mass=100)\n",
    "ActorBuilder.set_spacecraft_body_model(sat2, mass=100)"
   ]
  },
  {
   "cell_type": "code",
   "execution_count": 4,
   "id": "d8cbc059",
   "metadata": {},
   "outputs": [],
   "source": [
    "B0 = np.array([-3.18159529e-09, 1.02244882e-07, -3.72362170e-08])\n",
    "\n",
    "B_direction = B0 / np.linalg.norm(B0)\n",
    "\n",
    "# Define a very large dipole moment for magnetic actor to compensate for the low magnetic field at GEO orbit\n",
    "m_body = 500  # Am²\n",
    "actor_dipole = np.ndarray.tolist(B_direction * m_body)\n",
    "initial_pointing_vector_body = np.ndarray.tolist(B_direction)\n",
    "\n",
    "# Set attitude models\n",
    "ActorBuilder.set_attitude_model(\n",
    "    sat1,\n",
    "    actor_initial_angular_velocity=[0.0, 0.0, 0.0],\n",
    "    actor_pointing_vector_body=initial_pointing_vector_body,\n",
    "    actor_initial_attitude_in_rad=[0.0, 0.0, 0.0],\n",
    "    actor_residual_magnetic_field=actor_dipole,  # magnetic\n",
    ")"
   ]
  },
  {
   "cell_type": "code",
   "execution_count": 5,
   "id": "f878337b",
   "metadata": {},
   "outputs": [],
   "source": [
    "ActorBuilder.set_attitude_disturbances(sat1, magnetic=True)"
   ]
  },
  {
   "cell_type": "code",
   "execution_count": 6,
   "id": "7fd662d9",
   "metadata": {},
   "outputs": [
    {
     "data": {
      "text/plain": [
       "['magnetic']"
      ]
     },
     "execution_count": 6,
     "metadata": {},
     "output_type": "execute_result"
    }
   ],
   "source": [
    "sat1.attitude_disturbances"
   ]
  },
  {
   "cell_type": "code",
   "execution_count": 7,
   "id": "3e21a787",
   "metadata": {},
   "outputs": [
    {
     "ename": "AttributeError",
     "evalue": "'SpacecraftActor' object has no attribute 'get_disturbances'",
     "output_type": "error",
     "traceback": [
      "\u001b[1;31m---------------------------------------------------------------------------\u001b[0m",
      "\u001b[1;31mAttributeError\u001b[0m                            Traceback (most recent call last)",
      "Cell \u001b[1;32mIn[7], line 13\u001b[0m\n\u001b[0;32m     10\u001b[0m \u001b[38;5;66;03m# The magnetic actor will oscillate slightly, following the Earth's magnetic field lines. (check for multiple steps)\u001b[39;00m\n\u001b[0;32m     11\u001b[0m \u001b[38;5;66;03m# The actor's magnetic field will not stay perfectly aligned with the Earth's field but needs to stay close.\u001b[39;00m\n\u001b[0;32m     12\u001b[0m \u001b[38;5;28;01mfor\u001b[39;00m i \u001b[38;5;129;01min\u001b[39;00m \u001b[38;5;28mrange\u001b[39m(\u001b[38;5;241m20\u001b[39m):\n\u001b[1;32m---> 13\u001b[0m     \u001b[43msim\u001b[49m\u001b[38;5;241;43m.\u001b[39;49m\u001b[43madvance_time\u001b[49m\u001b[43m(\u001b[49m\u001b[38;5;241;43m200\u001b[39;49m\u001b[43m,\u001b[49m\u001b[43m \u001b[49m\u001b[38;5;241;43m0\u001b[39;49m\u001b[43m)\u001b[49m\n\u001b[0;32m     15\u001b[0m     \u001b[38;5;66;03m# Get the magnetic flux density vector:\u001b[39;00m\n\u001b[0;32m     16\u001b[0m     B \u001b[38;5;241m=\u001b[39m flux_density_vector(sat1)\n",
      "File \u001b[1;32m~\\Documents\\Delft\\projects\\PASEOS\\paseos\\tests\\../..\\paseos\\paseos.py:172\u001b[0m, in \u001b[0;36mPASEOS.advance_time\u001b[1;34m(self, time_to_advance, current_power_consumption_in_W, constraint_function)\u001b[0m\n\u001b[0;32m    170\u001b[0m \u001b[38;5;66;03m# Update actor attitude\u001b[39;00m\n\u001b[0;32m    171\u001b[0m \u001b[38;5;28;01mif\u001b[39;00m \u001b[38;5;28mself\u001b[39m\u001b[38;5;241m.\u001b[39mlocal_actor\u001b[38;5;241m.\u001b[39mhas_attitude_model:\n\u001b[1;32m--> 172\u001b[0m     \u001b[38;5;28;43mself\u001b[39;49m\u001b[38;5;241;43m.\u001b[39;49m\u001b[43mlocal_actor\u001b[49m\u001b[38;5;241;43m.\u001b[39;49m\u001b[43m_attitude_model\u001b[49m\u001b[38;5;241;43m.\u001b[39;49m\u001b[43mupdate_attitude\u001b[49m\u001b[43m(\u001b[49m\u001b[43mdt\u001b[49m\u001b[43m)\u001b[49m\n\u001b[0;32m    174\u001b[0m \u001b[38;5;66;03m# Update user-defined properties in the actor\u001b[39;00m\n\u001b[0;32m    175\u001b[0m \u001b[38;5;28;01mfor\u001b[39;00m property_name \u001b[38;5;129;01min\u001b[39;00m \u001b[38;5;28mself\u001b[39m\u001b[38;5;241m.\u001b[39mlocal_actor\u001b[38;5;241m.\u001b[39mcustom_properties\u001b[38;5;241m.\u001b[39mkeys():\n",
      "File \u001b[1;32m~\\Documents\\Delft\\projects\\PASEOS\\paseos\\tests\\../..\\paseos\\attitude\\attitude_model.py:240\u001b[0m, in \u001b[0;36mAttitudeModel.update_attitude\u001b[1;34m(self, dt)\u001b[0m\n\u001b[0;32m    238\u001b[0m theta_1 \u001b[38;5;241m=\u001b[39m \u001b[38;5;28mself\u001b[39m\u001b[38;5;241m.\u001b[39m_frame_rotation(position, next_position, velocity)\n\u001b[0;32m    239\u001b[0m \u001b[38;5;66;03m# body rotation due to its physical rotation\u001b[39;00m\n\u001b[1;32m--> 240\u001b[0m theta_2 \u001b[38;5;241m=\u001b[39m \u001b[38;5;28;43mself\u001b[39;49m\u001b[38;5;241;43m.\u001b[39;49m\u001b[43m_body_rotation\u001b[49m\u001b[43m(\u001b[49m\u001b[43mdt\u001b[49m\u001b[43m)\u001b[49m\n\u001b[0;32m    242\u001b[0m \u001b[38;5;66;03m# rotate the body vectors in rpy frame with frame rotation\u001b[39;00m\n\u001b[0;32m    243\u001b[0m xb_rpy, yb_rpy, zb_rpy, pointing_vector_rpy \u001b[38;5;241m=\u001b[39m rotate_body_vectors(\n\u001b[0;32m    244\u001b[0m     xb_rpy, yb_rpy, zb_rpy, pointing_vector_rpy, theta_1\n\u001b[0;32m    245\u001b[0m )\n",
      "File \u001b[1;32m~\\Documents\\Delft\\projects\\PASEOS\\paseos\\tests\\../..\\paseos\\attitude\\attitude_model.py:153\u001b[0m, in \u001b[0;36mAttitudeModel._body_rotation\u001b[1;34m(self, dt)\u001b[0m\n\u001b[0;32m    144\u001b[0m \u001b[38;5;250m\u001b[39m\u001b[38;5;124;03m\"\"\"Calculates the rotation vector around which the spacecraft body rotates\u001b[39;00m\n\u001b[0;32m    145\u001b[0m \u001b[38;5;124;03mbased on angular acceleration and velocity.\u001b[39;00m\n\u001b[0;32m    146\u001b[0m \n\u001b[1;32m   (...)\u001b[0m\n\u001b[0;32m    150\u001b[0m \u001b[38;5;124;03mReturns: rotation vector of spacecraft body expressed in the RPY frame.\u001b[39;00m\n\u001b[0;32m    151\u001b[0m \u001b[38;5;124;03m\"\"\"\u001b[39;00m\n\u001b[0;32m    152\u001b[0m \u001b[38;5;66;03m# Calculate angular acceleration\u001b[39;00m\n\u001b[1;32m--> 153\u001b[0m \u001b[38;5;28;43mself\u001b[39;49m\u001b[38;5;241;43m.\u001b[39;49m\u001b[43m_calculate_angular_acceleration\u001b[49m\u001b[43m(\u001b[49m\u001b[43m)\u001b[49m\n\u001b[0;32m    155\u001b[0m \u001b[38;5;66;03m# Add angular velocity\u001b[39;00m\n\u001b[0;32m    156\u001b[0m \u001b[38;5;28mself\u001b[39m\u001b[38;5;241m.\u001b[39m_actor_angular_velocity \u001b[38;5;241m+\u001b[39m\u001b[38;5;241m=\u001b[39m \u001b[38;5;28mself\u001b[39m\u001b[38;5;241m.\u001b[39m_actor_angular_acceleration \u001b[38;5;241m*\u001b[39m dt\n",
      "File \u001b[1;32m~\\Documents\\Delft\\projects\\PASEOS\\paseos\\tests\\../..\\paseos\\attitude\\attitude_model.py:139\u001b[0m, in \u001b[0;36mAttitudeModel._calculate_angular_acceleration\u001b[1;34m(self)\u001b[0m\n\u001b[0;32m    134\u001b[0m I \u001b[38;5;241m=\u001b[39m \u001b[38;5;28mself\u001b[39m\u001b[38;5;241m.\u001b[39m_actor\u001b[38;5;241m.\u001b[39mbody_moment_of_inertia\n\u001b[0;32m    136\u001b[0m \u001b[38;5;66;03m# Euler's equation for rigid body rotation: a = I^(-1) (T - w x (Iw))\u001b[39;00m\n\u001b[0;32m    137\u001b[0m \u001b[38;5;66;03m# with: a = angular acceleration, I = inertia matrix, T = torque vector, w = angular velocity\u001b[39;00m\n\u001b[0;32m    138\u001b[0m \u001b[38;5;28mself\u001b[39m\u001b[38;5;241m.\u001b[39m_actor_angular_acceleration \u001b[38;5;241m=\u001b[39m np\u001b[38;5;241m.\u001b[39mlinalg\u001b[38;5;241m.\u001b[39minv(I) \u001b[38;5;241m@\u001b[39m (\n\u001b[1;32m--> 139\u001b[0m     \u001b[38;5;28;43mself\u001b[39;49m\u001b[38;5;241;43m.\u001b[39;49m\u001b[43m_calculate_disturbance_torque\u001b[49m\u001b[43m(\u001b[49m\u001b[43m)\u001b[49m\n\u001b[0;32m    140\u001b[0m     \u001b[38;5;241m-\u001b[39m np\u001b[38;5;241m.\u001b[39mcross(\u001b[38;5;28mself\u001b[39m\u001b[38;5;241m.\u001b[39m_actor_angular_velocity, I \u001b[38;5;241m@\u001b[39m \u001b[38;5;28mself\u001b[39m\u001b[38;5;241m.\u001b[39m_actor_angular_velocity)\n\u001b[0;32m    141\u001b[0m )\n",
      "File \u001b[1;32m~\\Documents\\Delft\\projects\\PASEOS\\paseos\\tests\\../..\\paseos\\attitude\\attitude_model.py:114\u001b[0m, in \u001b[0;36mAttitudeModel._calculate_disturbance_torque\u001b[1;34m(self)\u001b[0m\n\u001b[0;32m    110\u001b[0m T \u001b[38;5;241m=\u001b[39m np\u001b[38;5;241m.\u001b[39marray([\u001b[38;5;241m0.0\u001b[39m, \u001b[38;5;241m0.0\u001b[39m, \u001b[38;5;241m0.0\u001b[39m])\n\u001b[0;32m    112\u001b[0m \u001b[38;5;28;01mif\u001b[39;00m \u001b[38;5;28mself\u001b[39m\u001b[38;5;241m.\u001b[39m_disturbances \u001b[38;5;129;01mis\u001b[39;00m \u001b[38;5;129;01mnot\u001b[39;00m \u001b[38;5;28;01mNone\u001b[39;00m:\n\u001b[0;32m    113\u001b[0m     \u001b[38;5;66;03m# TODO add solar disturbance\u001b[39;00m\n\u001b[1;32m--> 114\u001b[0m     \u001b[38;5;28;01mif\u001b[39;00m \u001b[38;5;124m\"\u001b[39m\u001b[38;5;124maerodynamic\u001b[39m\u001b[38;5;124m\"\u001b[39m \u001b[38;5;129;01min\u001b[39;00m \u001b[38;5;28;43mself\u001b[39;49m\u001b[38;5;241;43m.\u001b[39;49m\u001b[43m_actor\u001b[49m\u001b[38;5;241;43m.\u001b[39;49m\u001b[43mget_disturbances\u001b[49m():\n\u001b[0;32m    115\u001b[0m         T \u001b[38;5;241m+\u001b[39m\u001b[38;5;241m=\u001b[39m calculate_aero_torque()\n\u001b[0;32m    116\u001b[0m     \u001b[38;5;28;01mif\u001b[39;00m \u001b[38;5;124m\"\u001b[39m\u001b[38;5;124mgravitational\u001b[39m\u001b[38;5;124m\"\u001b[39m \u001b[38;5;129;01min\u001b[39;00m \u001b[38;5;28mself\u001b[39m\u001b[38;5;241m.\u001b[39m_actor\u001b[38;5;241m.\u001b[39mget_disturbances():\n",
      "\u001b[1;31mAttributeError\u001b[0m: 'SpacecraftActor' object has no attribute 'get_disturbances'"
     ]
    }
   ],
   "source": [
    "# Initial pointing vector in Earth inertial frame\n",
    "initial_pointing_vector_eci = np.array(sat1.pointing_vector)\n",
    "# Start simulation\n",
    "sim = paseos.init_sim(sat1)\n",
    "sim.add_known_actor(sat2)\n",
    "\n",
    "# Check if B0, used to define the actors' magnetic field orientations is the initial B vector orientation in sim.\n",
    "assert np.all(np.isclose(B0, flux_density_vector(sat1, \"body\")))\n",
    "\n",
    "# The magnetic actor will oscillate slightly, following the Earth's magnetic field lines. (check for multiple steps)\n",
    "# The actor's magnetic field will not stay perfectly aligned with the Earth's field but needs to stay close.\n",
    "for i in range(20):\n",
    "    sim.advance_time(200, 0)\n",
    "\n",
    "    # Get the magnetic flux density vector:\n",
    "    B = flux_density_vector(sat1)\n",
    "\n",
    "    # B vector direction:\n",
    "    B_direction = B / np.linalg.norm(B)\n",
    "\n",
    "    # Angle between the B vector and the actor's magnetic dipole vector (which is in the pointing vector direction):\n",
    "    angle = np.arccos(np.dot(B_direction, sat1.pointing_vector)) * 180 / np.pi\n",
    "    print(angle)\n",
    "    # Check if the magnetic"
   ]
  },
  {
   "cell_type": "code",
   "execution_count": null,
   "id": "802b41b1",
   "metadata": {},
   "outputs": [],
   "source": [
    "angle"
   ]
  },
  {
   "cell_type": "code",
   "execution_count": null,
   "id": "ee75bb7b",
   "metadata": {},
   "outputs": [],
   "source": []
  }
 ],
 "metadata": {
  "kernelspec": {
   "display_name": "Python 3 (ipykernel)",
   "language": "python",
   "name": "python3"
  },
  "language_info": {
   "codemirror_mode": {
    "name": "ipython",
    "version": 3
   },
   "file_extension": ".py",
   "mimetype": "text/x-python",
   "name": "python",
   "nbconvert_exporter": "python",
   "pygments_lexer": "ipython3",
   "version": "3.11.4"
  }
 },
 "nbformat": 4,
 "nbformat_minor": 5
}
