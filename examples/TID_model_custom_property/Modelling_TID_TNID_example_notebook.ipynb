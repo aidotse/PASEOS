{
 "cells": [
  {
   "cell_type": "markdown",
   "id": "79556fc6",
   "metadata": {},
   "source": [
    "# Model Total Ionization Dose (TID) example notebook\n",
    "\n",
    "This notebook showcases how to model **Total Ionization Dose (TID)** inside `PASEOS`. To this aim, we will use a **custom property** to model the accumulated dose and the consequent risk of failure. <br>\n",
    "We used [SPENVIS](https://www.spenvis.oma.be/) to estimate the total dose and the electron and protons fluxes over 30 mission days on the [Sentinel-2B](https://sentinel.esa.int/web/sentinel/missions/sentinel-2) sun-synchronous orbit. "
   ]
  },
  {
   "cell_type": "code",
   "execution_count": null,
   "id": "33e7c0be",
   "metadata": {},
   "outputs": [],
   "source": [
    "%load_ext autoreload\n",
    "%autoreload 2\n",
    "import sys \n",
    "import os\n",
    "sys.path.insert(1, os.path.join(\"..\",\"..\"))\n",
    "import pykep as pk\n",
    "import numpy as np\n",
    "import paseos\n",
    "from paseos import ActorBuilder, SpacecraftActor\n",
    "from paseos.utils.load_default_cfg import load_default_cfg\n",
    "import matplotlib.pyplot as plt\n"
   ]
  },
  {
   "cell_type": "markdown",
   "id": "3670f211",
   "metadata": {},
   "source": [
    "# 1) - Instantiate a space actor\n",
    "\n",
    "We can now create a space actor **sat** and assign it to the **Sentinel-2B** sun-synchronous orbit with starting date at 27-10-2022, 12:00. For a more detailed discussion on actors, scaffolds, and how to retrieve the Sentinel-2B ephemerides, please check our [Sentinel-2B example notebook](https://github.com/aidotse/PASEOS/blob/main/examples/Sentinel_2_example_notebook/Sentinel2_example_notebook.ipynb)."
   ]
  },
  {
   "cell_type": "code",
   "execution_count": null,
   "id": "3567ebb8",
   "metadata": {},
   "outputs": [],
   "source": [
    "# Define central body\n",
    "earth = pk.planet.jpl_lp(\"earth\")\n",
    "\n",
    "# Define local actor\n",
    "sat = ActorBuilder.get_actor_scaffold(name=\"sat\", actor_type=SpacecraftActor, epoch=pk.epoch(0))\n",
    "\n",
    "#Define start_date as pykep epoch (27-10-22)\n",
    "#please, refer to https://esa.github.io/pykep/documentation/core.html#pykep.epoch\n",
    "start_date = pk.epoch_from_string('2022-10-27 12:00:00.000')\n",
    "\n",
    "#Adding orbit around Earth based on previously calculated ephemerides\n",
    "ActorBuilder.set_orbit(actor=sat, \n",
    "                       position=[-6912275.638799771, -1753638.1454079857, 734768.7737737056], \n",
    "                       velocity=[-1015.9539197253205, 894.2090554272667, -7334.877725365646], \n",
    "                       epoch=start_date, central_body=earth)"
   ]
  },
  {
   "cell_type": "markdown",
   "id": "a1f00fd5",
   "metadata": {},
   "source": [
    "# 2) - Instantiate PASEOS simulation\n",
    "\n",
    "To instantiate `PASEOS`, we consider **sat** as `local_actor`. The initial time is set to `start_date`."
   ]
  },
  {
   "cell_type": "code",
   "execution_count": null,
   "id": "14f3a552",
   "metadata": {},
   "outputs": [],
   "source": [
    "cfg=load_default_cfg() # loading cfg to modify defaults\n",
    "cfg.sim.start_time=start_date.mjd2000 * pk.DAY2SEC # convert epoch to seconds\n",
    "# update frequency of the constraint function. **N.B** this determines how often the fault probability will be checked.\n",
    "cfg.sim.activity_timestep = 12 * 3600.0  \n",
    "sim = paseos.init_sim(sat, cfg)"
   ]
  },
  {
   "cell_type": "markdown",
   "id": "7105d9ff",
   "metadata": {},
   "source": [
    "# 3) - Modelling TID effects in PASEOS"
   ]
  },
  {
   "cell_type": "markdown",
   "id": "66a7bb54",
   "metadata": {},
   "source": [
    "PASEOS does not offer a suit to calculate the total dose for different mission scenarios. However, through PASEOS you can easily model its effects once you have calculated the total dose by using other tools. <br>\n",
    "To this aim, we simulated 30 mission days starting from `start_date` by using [SPENVIS](https://www.spenvis.oma.be/). \n",
    "In particular, we proceeded as follows: \n",
    "1. We calculated the trapped protons and electrons fluxes by using respectively the `AP-8` (solar minimum condition) and `AE-8` (solar mximum condition) models with 1 cm**2/s threshold flux for esposure (default value). \n",
    "\n",
    "2. By using the extimated electrons and proton fluxes, we assumed 2.5mm spherical shielding wrapping the electronic device and calculated the total dose over the 30-days mission by using the SHIELDOSE-2 dose model (v.2.1.0). \n",
    "\n",
    "Results suggest that the mission total dose is of **3.247E+02 rad** (electrons and protons)."
   ]
  },
  {
   "cell_type": "code",
   "execution_count": null,
   "id": "32017753",
   "metadata": {},
   "outputs": [],
   "source": [
    "dose_30_days_rad=3.247E+02"
   ]
  },
  {
   "cell_type": "markdown",
   "id": "ec6c3cec",
   "metadata": {},
   "source": [
    "To update the dose over time, we first iterated the procedure above to calculate the total mission dose for different mission lengths (e.g, [1,2,4,8,16,30] days). We, then, used a linear interpolation to get the increment of the dose over time."
   ]
  },
  {
   "cell_type": "code",
   "execution_count": null,
   "id": "f147b1b9",
   "metadata": {},
   "outputs": [],
   "source": [
    "mission_days=np.array([1,2,4,8,16,30])\n",
    "mission_dose_days_rad=np.array([2.626E+01,3.850E+01,6.402E+01,1.153E+02,2.172E+02,3.247E+02])\n",
    "dose_0_rad,dose_per_day_in_rad=np.linalg.lstsq(np.array([np.ones_like(mission_days), mission_days]).T, mission_dose_days_rad, rcond='warn')[0]\n",
    "interp=dose_0_rad+dose_per_day_in_rad * mission_days\n",
    "plt.figure(0)\n",
    "plt.stem(mission_days, mission_dose_days_rad)\n",
    "plt.plot(mission_days, interp, color=\"red\")\n",
    "plt.xlabel(\"mission days\")\n",
    "plt.ylabel(\"TID [rad]\")"
   ]
  },
  {
   "cell_type": "markdown",
   "id": "677eafc9",
   "metadata": {},
   "source": [
    "To model TID in PASEOS, we can use custom properties. First of all, we define a property called `total_ionizing_dose`. We, then, create a dedicated update function `prop_update_fn` to compute the TID over time."
   ]
  },
  {
   "cell_type": "code",
   "execution_count": null,
   "id": "6edda0b7",
   "metadata": {},
   "outputs": [],
   "source": [
    "# Add a custom property which tracks the TID\n",
    "prop_name = \"total_ionizing_dose\"\n",
    "# Define the update function\n",
    "def prop_update_fn(actor, dt, power_consumption):\n",
    "    return actor.get_custom_property(prop_name) + dose_per_day_in_rad/(24 * 3600) * dt"
   ]
  },
  {
   "cell_type": "markdown",
   "id": "3bb1bcd8",
   "metadata": {},
   "source": [
    "We can now add a custom property that models the `total_ionizing_dose`, which is updated as described by `prop_update_fn`."
   ]
  },
  {
   "cell_type": "code",
   "execution_count": null,
   "id": "5032177b",
   "metadata": {},
   "outputs": [],
   "source": [
    "ActorBuilder.add_custom_property(actor=sat, property_name=prop_name, update_function=prop_update_fn, initial_value=dose_0_rad)"
   ]
  },
  {
   "cell_type": "markdown",
   "id": "d7892551",
   "metadata": {},
   "source": [
    "# 4) - Calculate the probability of a failure due to the TID"
   ]
  },
  {
   "cell_type": "markdown",
   "id": "970f4e65",
   "metadata": {},
   "source": [
    "According to the works [Wang, Jian-zhao et al.](https://www.sciencedirect.com/science/article/pii/S0026271422002712?casa_token=PbtCHwrwtKwAAAAA:hddUtlxhJM_CC-nUZBuxG2qZ7793olmDjTO7ZyztDxjjsteCl1fxvlh88SjEiRIeGVR430Po4EJW), [Xapsos, M. A., et al.](https://ieeexplore.ieee.org/stamp/stamp.jsp?tp=&arnumber=7563310), the failure probability due to TID ($P_{failure}$) can be calculates as follows: \n",
    "\n",
    "<br> $P_{failure}=\\int_{0}^{dose(t)} (1-H(x)) \\cdot g(x) \\cdot dx $\n",
    "\n",
    "where:\n",
    "\n",
    "- $g(x)$ is the Probability Density Function of the devices' failure doses.\n",
    "- $H(x)$ is the cumulative distribution function of radiation dose from space during the mission period. "
   ]
  },
  {
   "cell_type": "markdown",
   "id": "af15c026",
   "metadata": {},
   "source": [
    "To estimate $H(dose)$, we centered a lognormal distribution $h(dose)$ in the value of the dose [Wang, Jian-zhao et al.](https://www.sciencedirect.com/science/article/pii/S0026271422002712?casa_token=PbtCHwrwtKwAAAAA:hddUtlxhJM_CC-nUZBuxG2qZ7793olmDjTO7ZyztDxjjsteCl1fxvlh88SjEiRIeGVR430Po4EJW). Then,  we calculated the cumulative distributed function $H(dose)$. <br> To estimate the variability of the curve as defined in [Wang, Jian-zhao et al.](https://www.sciencedirect.com/science/article/pii/S0026271422002712?casa_token=PbtCHwrwtKwAAAAA:hddUtlxhJM_CC-nUZBuxG2qZ7793olmDjTO7ZyztDxjjsteCl1fxvlh88SjEiRIeGVR430Po4EJW), we used as sample the values reported in the sun-synchronous orbit for 100 mils reported in [Xapsos, M. A., et al.](https://ieeexplore.ieee.org/stamp/stamp.jsp?tp=&arnumber=7563310)."
   ]
  },
  {
   "cell_type": "code",
   "execution_count": null,
   "id": "ec8df14a",
   "metadata": {},
   "outputs": [],
   "source": [
    "def get_lognormal_pdf(mean, std, domain):\n",
    "    #Calculate h(dose)\n",
    "    return (np.exp(-(np.log(domain) - mean)**2 / (2 *  std**2))\n",
    "       / (domain *  std * np.sqrt(2 * np.pi)))"
   ]
  },
  {
   "cell_type": "code",
   "execution_count": null,
   "id": "95f0915a",
   "metadata": {},
   "outputs": [],
   "source": [
    "#Dose values\n",
    "dose_span=np.linspace(1e-15, 1009*dose_30_days_rad, 20000)\n",
    "\n",
    "# h power density function\n",
    "pdf_h=get_lognormal_pdf(np.log(dose_30_days_rad/2), np.log(dose_30_days_rad/100), dose_span)\n",
    "\n",
    "# Calculate the H cumulative distribution function\n",
    "cdf_h=np.zeros_like(dose_span)\n",
    "for n in range(len(dose_span)):\n",
    "    cdf_h[n]=np.trapz(pdf_h[:n], dose_span[:n])"
   ]
  },
  {
   "cell_type": "markdown",
   "id": "359f8c1b",
   "metadata": {},
   "source": [
    "$g(dose)$ shall be specified by the user depending on the target component.  We used a lognormal Probability Density Function centered on the average TID value. <br> For this example, we use an unreasonably low TID value (i.e., 200 rad) to possibly experience a failure during the mission in a short time."
   ]
  },
  {
   "cell_type": "code",
   "execution_count": null,
   "id": "8938176b",
   "metadata": {},
   "outputs": [],
   "source": [
    "TID_rad = 200\n",
    "pdf_g=get_lognormal_pdf(np.log(TID_rad), np.log(TID_rad/100), dose_span)\n",
    "\n",
    "\n",
    "plt.figure(2)\n",
    "fig, ax=plt.subplots(1,2)\n",
    "ax[0].semilogx(dose_span, pdf_g, color=\"red\")\n",
    "ax[0].set_xlabel(\"TID [rad]\")\n",
    "ax[0].set_ylabel(\"g(TID)\")\n",
    "ax[1].semilogx(dose_span, cdf_h, color=\"blue\")\n",
    "ax[1].set_xlabel(\"TID [rad]\")\n",
    "ax[1].set_ylabel(\"H(TID)\")\n",
    "fig.tight_layout()\n",
    "plt.show()\n",
    "\n",
    "H=dict(zip(dose_span, cdf_h))\n",
    "g= dict(zip(dose_span, pdf_g))"
   ]
  },
  {
   "cell_type": "markdown",
   "id": "120304f5",
   "metadata": {},
   "source": [
    "We can now generate a [constraint function](https://github.com/aidotse/PASEOS#constraint-function) that checks if a failure event happens."
   ]
  },
  {
   "cell_type": "code",
   "execution_count": null,
   "id": "e21c5b2a",
   "metadata": {},
   "outputs": [],
   "source": [
    "#Seeding np.random\n",
    "np.random.seed(26)\n",
    "\n",
    "def constraint_func_TID_failure():\n",
    "    dose=sat.get_custom_property(\"total_ionizing_dose\")\n",
    "    print(\"Time:\", sat.local_time, \"TID [rad]: \", dose)\n",
    "    \n",
    "    #Finding the closest domain value to the dose\n",
    "    dose_nearest_idx = (np.abs(dose_span - dose)).argmin()\n",
    "    \n",
    "    #Calculating the probability \n",
    "    y=np.zeros_like(dose_span)\n",
    "    \n",
    "    for n in range(dose_nearest_idx):\n",
    "        y[n]=(1 - H[dose_span[n]]) * g[dose_span[n]]\n",
    "        \n",
    "    p=np.trapz(y, dose_span)\n",
    "    \n",
    "    #Sampling uniform distribution probability \n",
    "    p_s = np.random.randint(1, 100000)\n",
    "    \n",
    "    \n",
    "    if (p_s < int(round(p*100000))):\n",
    "        print(\"------------------------------------------------\")\n",
    "        print(\"Detected fault due to TID!\")\n",
    "        print(\"Damage probability: \", p)\n",
    "        print(\"Time:\", sat.local_time)\n",
    "        return False\n",
    "    else:\n",
    "        return True"
   ]
  },
  {
   "cell_type": "markdown",
   "id": "fab5abf6",
   "metadata": {},
   "source": [
    "# 5) - Let's test it out"
   ]
  },
  {
   "cell_type": "markdown",
   "id": "2e1b25a2",
   "metadata": {},
   "source": [
    "Let's advance the time of 30 days and check if an interrupt happens."
   ]
  },
  {
   "cell_type": "code",
   "execution_count": null,
   "id": "1246e04f",
   "metadata": {
    "scrolled": true
   },
   "outputs": [],
   "source": [
    "sim.advance_time(3600 * 24 * 30, 10, constraint_function=constraint_func_TID_failure)"
   ]
  },
  {
   "cell_type": "code",
   "execution_count": null,
   "id": "63d51303",
   "metadata": {},
   "outputs": [],
   "source": []
  }
 ],
 "metadata": {
  "kernelspec": {
   "display_name": "Python 3 (ipykernel)",
   "language": "python",
   "name": "python3"
  },
  "language_info": {
   "codemirror_mode": {
    "name": "ipython",
    "version": 3
   },
   "file_extension": ".py",
   "mimetype": "text/x-python",
   "name": "python",
   "nbconvert_exporter": "python",
   "pygments_lexer": "ipython3",
   "version": "3.11.4"
  },
  "vscode": {
   "interpreter": {
    "hash": "cec805858b69cacb2b7ad611a1d16c309b9d5c2fd3283013a8f0cd0423ba3fc5"
   }
  }
 },
 "nbformat": 4,
 "nbformat_minor": 5
}
