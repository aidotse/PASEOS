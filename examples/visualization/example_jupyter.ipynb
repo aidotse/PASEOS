{
 "cells": [
  {
   "cell_type": "markdown",
   "metadata": {},
   "source": [
    "# Visualization of PASEOS\n",
    "\n",
    "First load the necessary packages"
   ]
  },
  {
   "cell_type": "code",
   "execution_count": null,
   "metadata": {},
   "outputs": [],
   "source": [
    "%load_ext autoreload\n",
    "%autoreload 2\n",
    "\n",
    "# If you haven't installed PASEOS\n",
    "import sys\n",
    "sys.path.append(\"../..\")\n",
    "\n",
    "# We use pykep for orbit determination\n",
    "import pykep as pk\n",
    "\n",
    "import paseos\n",
    "from paseos.actors.spacecraft_actor import SpacecraftActor\n",
    "from paseos.actors.actor_builder import ActorBuilder\n",
    "paseos.set_log_level(\"INFO\")"
   ]
  },
  {
   "cell_type": "markdown",
   "metadata": {},
   "source": [
    "For animations in notebooks you currently need to use `%matplotlib notebook`. This is supported by Jupyter Notebook, but, e.g., VSCode currently does not support this."
   ]
  },
  {
   "cell_type": "code",
   "execution_count": null,
   "metadata": {},
   "outputs": [],
   "source": [
    "%matplotlib notebook"
   ]
  },
  {
   "cell_type": "markdown",
   "metadata": {},
   "source": [
    "Create a PASEOS object. Add some actors"
   ]
  },
  {
   "cell_type": "code",
   "execution_count": null,
   "metadata": {},
   "outputs": [],
   "source": [
    " # Define central body\n",
    "earth = pk.planet.jpl_lp(\"earth\")\n",
    "sat1 = ActorBuilder.get_actor_scaffold(\n",
    "        \"sat1\", SpacecraftActor, pk.epoch(0)\n",
    "    )\n",
    "sat2 = ActorBuilder.get_actor_scaffold(\n",
    "    \"sat2\", SpacecraftActor, pk.epoch(0)\n",
    ")\n",
    "\n",
    "# Define local actor\n",
    "sat3 = ActorBuilder.get_actor_scaffold(\n",
    "    \"sat3\", SpacecraftActor, pk.epoch(0)\n",
    ")\n",
    "ActorBuilder.set_orbit(sat3, [-10000000, 0.1, 0.1], [0, 8000.0, 0], pk.epoch(0), earth)\n",
    "ActorBuilder.set_power_devices(sat3, 500, 10000, 1)\n",
    "\n",
    "sat4 = ActorBuilder.get_actor_scaffold(\n",
    "    \"sat4\", SpacecraftActor, pk.epoch(0)\n",
    ")\n",
    "ActorBuilder.set_orbit(sat4, [0, 10000000, 0], [0, 0, 8000.0], pk.epoch(0), earth)\n",
    "\n",
    "\n",
    "ActorBuilder.set_orbit(\n",
    "    sat1,\n",
    "    position=[10000000, 1e-3, 1e-3],\n",
    "    velocity=[1e-3, 8000, 1e-3],\n",
    "    epoch=pk.epoch(0),\n",
    "    central_body=earth,\n",
    ")\n",
    "ActorBuilder.set_orbit(\n",
    "    sat2,\n",
    "    position=[10000000, 1e-3, 1e-3],\n",
    "    velocity=[1e-3, -8000, 1e-3],\n",
    "    epoch=pk.epoch(0),\n",
    "    central_body=earth,\n",
    ")\n",
    "\n",
    "# Add communication link\n",
    "ActorBuilder.add_comm_device(sat1, device_name=\"link1\", bandwidth_in_kbps=1)\n",
    "ActorBuilder.add_comm_device(sat2, device_name=\"link1\", bandwidth_in_kbps=2)\n",
    "ActorBuilder.set_power_devices(sat1, 500, 10000, 1)\n",
    "ActorBuilder.set_power_devices(sat2, 500, 10000, 1)\n",
    "sim = paseos.init_sim(sat1)\n",
    "sim.add_known_actor(sat2)\n",
    "sim.add_known_actor(sat3)\n",
    "sim.add_known_actor(sat4)"
   ]
  },
  {
   "cell_type": "code",
   "execution_count": null,
   "metadata": {},
   "outputs": [],
   "source": [
    "# Plot current status of PASEOS and get a plotter\n",
    "plotter = paseos.plot(sim, paseos.PlotType.SpacePlot)"
   ]
  },
  {
   "cell_type": "code",
   "execution_count": null,
   "metadata": {
    "scrolled": false
   },
   "outputs": [],
   "source": [
    "# Run some operations and inbetween update PASEOS\n",
    "for i in range(100):\n",
    "    sim.advance_time(10,0)\n",
    "    plotter.update(sim)"
   ]
  },
  {
   "cell_type": "code",
   "execution_count": null,
   "metadata": {
    "scrolled": true
   },
   "outputs": [],
   "source": [
    "# Write an animation of the next 50 steps a 100s to a file called test.mp4\n",
    "plotter.animate(sim,dt=100,steps=50,save_to_file=\"test\")"
   ]
  }
 ],
 "metadata": {
  "kernelspec": {
   "display_name": "Python 3 (ipykernel)",
   "language": "python",
   "name": "python3"
  },
  "language_info": {
   "codemirror_mode": {
    "name": "ipython",
    "version": 3
   },
   "file_extension": ".py",
   "mimetype": "text/x-python",
   "name": "python",
   "nbconvert_exporter": "python",
   "pygments_lexer": "ipython3",
   "version": "3.10.8"
  },
  "vscode": {
   "interpreter": {
    "hash": "cec805858b69cacb2b7ad611a1d16c309b9d5c2fd3283013a8f0cd0423ba3fc5"
   }
  }
 },
 "nbformat": 4,
 "nbformat_minor": 2
}
