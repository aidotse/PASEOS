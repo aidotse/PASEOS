{
 "cells": [
  {
   "cell_type": "markdown",
   "id": "1fe90752",
   "metadata": {},
   "source": [
    "# Define a Sunsynchronous orbit"
   ]
  },
  {
   "cell_type": "code",
   "execution_count": 1,
   "id": "38b13a2c",
   "metadata": {},
   "outputs": [],
   "source": [
    "import pykep as pk\n",
    "import numpy as np\n",
    "import matplotlib.pyplot as plt"
   ]
  },
  {
   "cell_type": "markdown",
   "id": "41f9c1a6",
   "metadata": {},
   "source": [
    "Define useful constants"
   ]
  },
  {
   "cell_type": "code",
   "execution_count": 2,
   "id": "edc88140",
   "metadata": {},
   "outputs": [],
   "source": [
    "p= 0.19910213e-6 #[rad/s], precession\n",
    "Re=6378.1363 #[km], Earth radius\n",
    "J2 = 1.08262668e-3 # precession J2 coefficient\n",
    "muE= 398600.440 # [km^3/s^2], standard gravitational parameter\n",
    "G = 6.7430e-11 # [m^3⋅kg−1⋅s−2], Cavendish constant\n",
    "Me = 5.972e24 # [kg], Earth mass"
   ]
  },
  {
   "cell_type": "markdown",
   "id": "85e39a7d",
   "metadata": {},
   "source": [
    "## 1) Get (altitude, eccentricity) - altitude function"
   ]
  },
  {
   "cell_type": "code",
   "execution_count": 3,
   "id": "ced401f3",
   "metadata": {},
   "outputs": [],
   "source": [
    "def get_inclination(h, e):\n",
    "    # h (float): altitude in km\n",
    "    # e (float): eccentricity\n",
    "    return np.arccos(-2/3 * p/J2 * ((Re + h) * (1 - e*e)/Re)**2 * np.sqrt((h + Re) ** 3 / muE))* 180/np.pi"
   ]
  },
  {
   "cell_type": "code",
   "execution_count": 4,
   "id": "a50ad96e",
   "metadata": {},
   "outputs": [],
   "source": [
    "h=np.arange(300, 860, 10).astype(np.float64) #[km] altitude\n",
    "i = get_inclination(h, 1.2e-3)"
   ]
  },
  {
   "cell_type": "code",
   "execution_count": 5,
   "id": "f1c8e7d6",
   "metadata": {},
   "outputs": [
    {
     "data": {
      "text/plain": [
       "Text(0, 0.5, 'inclination [deg]')"
      ]
     },
     "execution_count": 5,
     "metadata": {},
     "output_type": "execute_result"
    },
    {
     "data": {
      "image/png": "[encoded data removed]",
      "text/plain": [
       "<Figure size 640x480 with 1 Axes>"
      ]
     },
     "metadata": {},
     "output_type": "display_data"
    }
   ],
   "source": [
    "plt.plot(h, i)\n",
    "plt.xlabel(\"altitude [km]\")\n",
    "plt.ylabel(\"inclination [deg]\")"
   ]
  },
  {
   "cell_type": "markdown",
   "id": "a17f8ccf",
   "metadata": {},
   "source": [
    "## 2) Fix repeating cycle constraints and get the minimum Swath width"
   ]
  },
  {
   "cell_type": "markdown",
   "id": "253f9742",
   "metadata": {},
   "source": [
    "Let's define the repeating cycle ($D$) as a function of the number of repetitions ($R$) <br> For a sun-synchronous orbit, it is true that: $$R \\cdot T_N \\cdot ({\\omega}_e - p) = 2 \\cdot \\pi \\cdot D$$, where p is the precession with respect to the ascending node, \n",
    " ${\\omega}_E$ is the Earth rotation rate to the vernal equinox,$D$ and $R$ are two integers prime between them and $T_N$ is the orbital period. In particular, $D$ is the number of nodal days and $R$ is the number of orbits in $D$ days.\n",
    "\n",
    "Now, ${\\omega}_e = \\frac{2 * \\pi}{T_{sydereal}}$, whilst ${\\omega}_s = \\frac{2 *\\pi}{T_{synodic}}$.\n",
    "\n",
    "You, probably, know that $T_{sydereal}=23 * 3600 + 56 * 60 + 4$ whilst $T_{synodic}=24*3600 $.<br> Therefore,  ${\\omega}_e = \\frac{2 * \\pi}{T_{sydereal}} = \\frac{2 * \\pi}{T_{sydereal}} \\cdot \\frac{T_{synodic}}{T_{synodic}} = {\\omega}_s \\cdot (1 + \\frac{3x60 + 4}{T_{sydereal}}) = {\\omega}_s \\cdot (1 + \\frac{1}{365.24})$. <br> To be sunsynchronous, the satellite precission $p$ shall match as the **Earth mean motion**, which is the rotation of the **mean sun** around the Earth that is of 365.24 days. Therefore, $p = 2*\\pi/(365.24 * T_{synodic}) = \\frac{\\omega_s}{s}.$. <br> Therefore, the equation above becomes (**Eq. 1**): <br> $$R \\cdot  \\frac{T_N}{T_{synodic}} = D$$ <br>You need also to consider that (**Eq. 2**): $$ a = \\sqrt[3]{\\mu_{E}\\cdot(\\frac{T_N}{2\\pi})^2}$$, where is the $a=h + R_E$ is the major semi-axis. <br> So you can proceed as follows: <br> \n",
    "- Fix the repeating cycle in days $D$. \n",
    "- Then, you select a number of repetitions $R$. \n",
    "- You find the $T_N$ from Eq 1. \n",
    "- You select the altitude from Eq. 2.\n",
    "\n",
    "Now, **minimum swath width** $S_w$ to have total coverage assuming that no titl manovers are possible, is: \n",
    "\n",
    "$$S_w = \\frac{2\\pi R_E}{R}$$, where $R_E$ is the Earth radius. So, are dividing the Earth circonference for the number of repetitions. This gives us the size of each repetition that has to be covered by the satellite across its track. "
   ]
  },
  {
   "cell_type": "code",
   "execution_count": 6,
   "id": "a92011df",
   "metadata": {},
   "outputs": [],
   "source": [
    "def get_swath_width(D, R):\n",
    "    T_synodic = 86400 # s\n",
    "    T_N = T_synodic * D / R \n",
    "    a = np.cbrt(muE * (T_N/(2 * np.pi))**2)\n",
    "    h = a - Re\n",
    "    S_w = 2 * np.pi * Re /R\n",
    "    return S_w, a, h, T_N"
   ]
  },
  {
   "cell_type": "markdown",
   "id": "27d17852",
   "metadata": {},
   "source": [
    "For instance, we try now to get [Sentinel-2](https://www.esa.int/Enabling_Support/Operations/Sentinel-2_operations) numbers."
   ]
  },
  {
   "cell_type": "code",
   "execution_count": 7,
   "id": "be7c6a61",
   "metadata": {},
   "outputs": [],
   "source": [
    "D = 10 #Revisit time of a single satellite\n",
    "R = 143 #14.3 orbits per day => 143 in 10 days.\n",
    "S_w, a, h, T_N = get_swath_width(D, R)"
   ]
  },
  {
   "cell_type": "code",
   "execution_count": 8,
   "id": "98634a44",
   "metadata": {},
   "outputs": [
    {
     "name": "stdout",
     "output_type": "stream",
     "text": [
      "altitude [km]:  791.7315152816172\n",
      "period [minute]:  100.6993006993007\n",
      "swath width [km]:  280.2448411702711\n"
     ]
    }
   ],
   "source": [
    "print(\"altitude [km]: \", h)\n",
    "print(\"period [minute]: \", T_N/60)\n",
    "print(\"swath width [km]: \", S_w)"
   ]
  },
  {
   "cell_type": "markdown",
   "id": "9ef636ac",
   "metadata": {},
   "source": [
    "## 3) How to get the orbit"
   ]
  },
  {
   "cell_type": "markdown",
   "id": "683af945",
   "metadata": {},
   "source": [
    "To find the other orbital parameters, proceed as follow: \n",
    "- You find the select the eccentricity of the orbit \n",
    "- You find the inclination from `get_inclination(h,e)` \n",
    "- You take as date the equinotium, so the satellite is along the major-semiaxis with a distance equal to $h + R_e$.\n",
    "- Then, $a = R_e + h$.\n",
    "- (True anomaly) $\\nu=0$.\n",
    "- (Argument of perigee): $\\omega = 90$\n",
    "- (Longitude of ascending node): $\\Omega = 270$"
   ]
  },
  {
   "cell_type": "code",
   "execution_count": 27,
   "id": "a3d6202b",
   "metadata": {},
   "outputs": [
    {
     "data": {
      "text/plain": [
       "[7169867.815281617,\n",
       " 0.0012,\n",
       " 1.720336214612357,\n",
       " 4.71238898038469,\n",
       " 1.5707963267948966,\n",
       " 4.71238898038469]"
      ]
     },
     "execution_count": 27,
     "metadata": {},
     "output_type": "execute_result"
    }
   ],
   "source": [
    "e = 1.2e-3\n",
    "i = get_inclination(np.array(h), e) / 180 * np.pi\n",
    "w = np.pi/2  #Argument of perigee\n",
    "W = 3/2 * np.pi  # Longitude of ascending node\n",
    "v = 3/2 * np.pi #True anomaly\n",
    "params = [a * 1000,e,i,W, w,v]\n",
    "params"
   ]
  },
  {
   "cell_type": "markdown",
   "id": "f44fa87b",
   "metadata": {},
   "source": [
    "Now you can the the ephemerides by using PASEOS."
   ]
  },
  {
   "cell_type": "code",
   "execution_count": 28,
   "id": "0c4f3864",
   "metadata": {},
   "outputs": [],
   "source": [
    "r, v = pk.par2ic(params, 1)"
   ]
  },
  {
   "cell_type": "code",
   "execution_count": 29,
   "id": "d5e40c84",
   "metadata": {},
   "outputs": [
    {
     "data": {
      "text/plain": [
       "[7169867.815281617,\n",
       " 0.0012,\n",
       " 1.720336214612357,\n",
       " 4.71238898038469,\n",
       " 1.5707963267948966,\n",
       " 4.71238898038469]"
      ]
     },
     "execution_count": 29,
     "metadata": {},
     "output_type": "execute_result"
    }
   ],
   "source": [
    "params"
   ]
  },
  {
   "cell_type": "code",
   "execution_count": 30,
   "id": "e610f2e2",
   "metadata": {},
   "outputs": [
    {
     "data": {
      "text/plain": [
       "(1281.8275717780234, -7169862.652974932, -8507.820199078998)"
      ]
     },
     "execution_count": 30,
     "metadata": {},
     "output_type": "execute_result"
    }
   ],
   "source": [
    "r"
   ]
  },
  {
   "cell_type": "code",
   "execution_count": 31,
   "id": "c277bfe1",
   "metadata": {},
   "outputs": [
    {
     "data": {
      "text/plain": [
       "(-5.5639297673936255e-05, -8.125056621227717e-20, 0.00036929236898515695)"
      ]
     },
     "execution_count": 31,
     "metadata": {},
     "output_type": "execute_result"
    }
   ],
   "source": [
    "v"
   ]
  },
  {
   "cell_type": "code",
   "execution_count": 32,
   "id": "83438d1f",
   "metadata": {},
   "outputs": [
    {
     "data": {
      "text/plain": [
       "1.720336214612357"
      ]
     },
     "execution_count": 32,
     "metadata": {},
     "output_type": "execute_result"
    }
   ],
   "source": [
    "i"
   ]
  },
  {
   "cell_type": "code",
   "execution_count": null,
   "id": "24ef8974",
   "metadata": {},
   "outputs": [],
   "source": []
  }
 ],
 "metadata": {
  "kernelspec": {
   "display_name": "Python 3 (ipykernel)",
   "language": "python",
   "name": "python3"
  },
  "language_info": {
   "codemirror_mode": {
    "name": "ipython",
    "version": 3
   },
   "file_extension": ".py",
   "mimetype": "text/x-python",
   "name": "python",
   "nbconvert_exporter": "python",
   "pygments_lexer": "ipython3",
   "version": "3.11.4"
  }
 },
 "nbformat": 4,
 "nbformat_minor": 5
}
