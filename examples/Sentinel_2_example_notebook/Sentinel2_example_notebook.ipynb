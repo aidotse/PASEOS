{
 "cells": [
  {
   "cell_type": "markdown",
   "id": "79556fc6",
   "metadata": {},
   "source": [
    "# Sentinel-2 example notebook\n",
    "\n",
    "This notebook showcases how to use  `PASEOS` to simulate **Sentinel2-B (S2B)**. In particular, the notebook shows how to create `space_actors` orbiting as the **S2B** around Earth. In addition, it shows how to add a `power` device and demonstrates how to register activities to perform onboard data acquisition and processing to detect **volcanic eruptions** on `Sentinel-2 L1C data`. <br> **DISCLAIMER**: the notebook requires `rasterio` and `scikit-image` to run correctly, which is not included in the packets required to install `PASEOS`. To install `rasterio` you can use: <br><center>  ```conda install -c conda-forge rasterio``` or alternatively ```pip install rasterio``` </center>\n",
    "<br>To install `scikit-image` you can use: <br><center>  ```conda install scikit-image``` or alternatively ```pip install scikit-image``` </center>"
   ]
  },
  {
   "cell_type": "code",
   "execution_count": null,
   "id": "33e7c0be",
   "metadata": {},
   "outputs": [],
   "source": [
    "%load_ext autoreload\n",
    "%autoreload 2\n",
    "%matplotlib notebook\n",
    "import sys \n",
    "import os\n",
    "sys.path.insert(1, os.path.join(\"..\",\"..\"))\n",
    "import pykep as pk\n",
    "import paseos\n",
    "from paseos import ActorBuilder, SpacecraftActor\n",
    "from utils import s2pix_detector, acquire_data\n",
    "from paseos.utils.load_default_cfg import load_default_cfg\n",
    "import asyncio\n",
    "import urllib.request\n",
    "import matplotlib.pyplot as plt\n",
    "from matplotlib import patches"
   ]
  },
  {
   "cell_type": "markdown",
   "id": "3670f211",
   "metadata": {},
   "source": [
    "# 1) - Instantiate Sentinel 2 space actors\n",
    "\n",
    "First of all, let's create the scaffolds for **S2B**. The scaffolds are objects which are not equipped with any `communication_device` nor `power_devices`. Furthermore, they neither have any `orbit`. \n",
    "\n",
    "S2B will be the local actor, i.e. the one paseos models. In this example, we only model this one satellite."
   ]
  },
  {
   "cell_type": "code",
   "execution_count": null,
   "id": "0fceac34",
   "metadata": {},
   "outputs": [],
   "source": [
    "#Define today as pykep epoch (27-10-22)\n",
    "#please, refer to https://esa.github.io/pykep/documentation/core.html#pykep.epoch\n",
    "today = pk.epoch_from_string('2022-10-27 12:00:00.000')\n",
    "\n",
    "# Define local actor\n",
    "S2B = ActorBuilder.get_actor_scaffold(name=\"Sentinel2-B\", actor_type=SpacecraftActor, epoch=today)"
   ]
  },
  {
   "cell_type": "markdown",
   "id": "ba6a533b",
   "metadata": {},
   "source": [
    "#### 1.a) - Add an orbit for S2B\n",
    "We can make use of the [two-line element](https://en.wikipedia.org/wiki/Two-line_element_set) actor creation [inside PASEOS](https://github.com/aidotse/PASEOS/tree/allow_using_TLE#sgp4--two-line-element-tle) for set the orbit of the PASEOS actor (TLE Downloaded on 27-10-2022)."
   ]
  },
  {
   "cell_type": "code",
   "execution_count": null,
   "id": "804356d0",
   "metadata": {},
   "outputs": [],
   "source": [
    "sentinel2B_line1 = \"1 42063U 17013A   22300.18652110  .00000099  00000+0  54271-4 0  9998\"\n",
    "sentinel2B_line2 = \"2 42063  98.5693  13.0364 0001083 104.3232 255.8080 14.30819357294601\"\n",
    "\n",
    "ActorBuilder.set_TLE(S2B, sentinel2B_line1, sentinel2B_line2)"
   ]
  },
  {
   "cell_type": "markdown",
   "id": "d3cb8c32",
   "metadata": {},
   "source": [
    "### 1.b) - Add communication and power devices\n",
    "\n",
    "Adding power devices. Max battery level: 102 Ah @ 28V is 2.81 kWh (effect of aging is neglected).  To identify the charging rate, we are assuming to be dependent only by the power of solar panels. We are neglecting eventual charging rate limits due to battery technology. The solar-panels power is 2300 W at begin of life and 1730 W at end of life. <br> Please, refer to: [Copernicus: Sentinel-2](https://www.eoportal.org/satellite-missions/copernicus-sentinel-2#space-segment.)"
   ]
  },
  {
   "cell_type": "code",
   "execution_count": null,
   "id": "00632457",
   "metadata": {},
   "outputs": [],
   "source": [
    "ActorBuilder.set_power_devices(actor=S2B, \n",
    "                               battery_level_in_Ws=10080000, \n",
    "                               max_battery_level_in_Ws=10080000, \n",
    "                               charging_rate_in_W=1860)"
   ]
  },
  {
   "cell_type": "markdown",
   "id": "a1f00fd5",
   "metadata": {},
   "source": [
    "# 2) - Instantiate PASEOS simulation\n",
    "\n",
    "To instantiate `PASEOS`, we consider **S2B** as `local_actor`. The initial time is set to `today`."
   ]
  },
  {
   "cell_type": "code",
   "execution_count": null,
   "id": "14f3a552",
   "metadata": {},
   "outputs": [],
   "source": [
    "cfg=load_default_cfg() # loading cfg to modify defaults\n",
    "cfg.sim.start_time=today.mjd2000 * pk.DAY2SEC # convert epoch to seconds\n",
    "cfg.sim.activity_timestep = 0.5 # update rate for plots. \n",
    "sim = paseos.init_sim(S2B, cfg)"
   ]
  },
  {
   "cell_type": "markdown",
   "id": "087004a9",
   "metadata": {},
   "source": [
    "## 3) - Dealing with PASEOS activities \n",
    "\n",
    "Here we demonstrate how you can use `PASEOS` to perform activities. To this aim, we will use `detection of volcanic eruptions` as use case, assuming it will be possible to run it onboard `S2B`. <br>We exploit a simplified version of the algorithm `[1]`, which leverages the spectral bands `B8A`, `B11` and `B12` to create a binary-map containing pixels marked as thermal anomalies. To detect the volcanic eruptions, we cluster those pixels in bounding boxes and return their coordinates to simulate an alert creation. <br> We will assume `S2B` will acquire images and then process them by using [1]. In this notebook, we assume to be able to detect the following images regardless of their proper geographical position. We thank the `ESA` project `Sentinel2_L0` for providing images and the implementation of [1]. <br>\n",
    "\n",
    "**References**: <br>\n",
    "`[1]  Massimetti, Francesco, et al. \"\"Volcanic hot-spot detection using SENTINEL-2: a comparison with MODIS–MIROVA thermal data series.\"\" Remote Sensing 12.5 (2020): 820.`<br>\n",
    "\n",
    "The next cell will download the files that are needed to execute the next parts of the notebook. The files belong to the `Sentinel2_L0` dataset project (to be released soon with GPL license)."
   ]
  },
  {
   "cell_type": "code",
   "execution_count": null,
   "id": "3f3d340b",
   "metadata": {},
   "outputs": [],
   "source": [
    "if not(os.path.isfile(\"Etna_00.tif\")):\n",
    "    print(\"Downloading the file: Etna_00.tif\")\n",
    "    urllib.request.urlretrieve(\"https://actcloud.estec.esa.int/actcloud/index.php/s/9Tw5pEbGbVO3Ttt/download\", \"Etna_00.tif\")\n",
    "if not(os.path.isfile(\"La_Palma_02.tif\")):\n",
    "    print(\"Downloading the file: La_Palma_02.tif\")\n",
    "    urllib.request.urlretrieve(\"https://actcloud.estec.esa.int/actcloud/index.php/s/vtObKJOuYLgdPf4/download\", \"La_Palma_02.tif\")\n",
    "if not(os.path.isfile(\"Mayon_02.tif\")):\n",
    "    print(\"Downloading the file: Mayon_02.tif\")\n",
    "    urllib.request.urlretrieve(\"https://actcloud.estec.esa.int/actcloud/index.php/s/e0MyilW1plYdehL/download\", \"Mayon_02.tif\")"
   ]
  },
  {
   "cell_type": "markdown",
   "id": "105d2dcb",
   "metadata": {},
   "source": [
    "### 3.a) - PASEOS visualization \n",
    "\n",
    "`PASEOS` offers a visualization tool that can be used to display the position of `S2B` around its orbit, the state of charge of the battery, and the name of the performed activity. <br>To enable the visualization, let's define a `plotter`. <br> **N.B.** `PASEOS` visualization is supported only for `Jupyter` but not for [Visual Studio Code](https://code.visualstudio.com/). "
   ]
  },
  {
   "cell_type": "code",
   "execution_count": null,
   "id": "b659de80",
   "metadata": {},
   "outputs": [],
   "source": [
    "# Plot current status of PASEOS and get a plotter\n",
    "plotter = paseos.plot(sim, paseos.PlotType.SpacePlot)"
   ]
  },
  {
   "cell_type": "markdown",
   "id": "33b8fa5f",
   "metadata": {},
   "source": [
    "### 3.b) - Registering activities \n",
    "\n",
    "The next lines will show how to register an activity to simulate data acquisition on **S2B**. <Br>Each activity is bound to an `asynchronous function`.  Let's define the asynchornous function `acquire_data_async()` as follow."
   ]
  },
  {
   "cell_type": "code",
   "execution_count": null,
   "id": "f128a7aa",
   "metadata": {},
   "outputs": [],
   "source": [
    "async def acquire_data_async(args):\n",
    "    #Fetch the input\n",
    "    image_path=args[0]\n",
    "    #Reading the TIF file and returning the image and its coordinates respectively as numpy array and dictionary. \n",
    "    #Please, refer to utils.py.\n",
    "    img, img_coordinates=acquire_data(image_path) \n",
    "    #Store results\n",
    "    args[1][0], args[2][0]=img, img_coordinates\n",
    "    await asyncio.sleep(3.6) #Acquisition for an L0 granule takes 3.6 seconds for S2B. "
   ]
  },
  {
   "cell_type": "markdown",
   "id": "e20c304e",
   "metadata": {},
   "source": [
    "The function `acquire_data_async()` uses `args[0]` as a filename to load the file and saves the acquired image into `args[1][0]` and geo-information into `args[2][0]`. Please, notice that using `args[1][0]` instead of `args[1]` is just a trick to be sure the acquired data are modifies the input argument `args[1]` by reference without creating a local copy of it. \n",
    "The next cell defines two lists `data_acquired` and `data_acquired_coordinates` to contain respectively the images and their coordinates for the different files."
   ]
  },
  {
   "cell_type": "code",
   "execution_count": null,
   "id": "1a09c6e2",
   "metadata": {},
   "outputs": [],
   "source": [
    "data_acquired=[] #List of acquired images\n",
    "data_acquired_coordinates=[] #List of image coordinates"
   ]
  },
  {
   "cell_type": "markdown",
   "id": "fbba6434",
   "metadata": {},
   "source": [
    "To enable the visualization of the activity in the `plotter`, we can leverage a **constraint function**. \n",
    "The purpose of a **constraint function** is to allow performing an activity only while some specific constraint is true. We don't impose a constraint here, however, since it is regularly executed we can use it to update the plotter  according to the simulation. Let's define `constraint_func_async()` as follows."
   ]
  },
  {
   "cell_type": "code",
   "execution_count": null,
   "id": "2631eedc",
   "metadata": {},
   "outputs": [],
   "source": [
    "# Constraint function\n",
    "async def constraint_func_async(args):\n",
    "    plotter.update(sim)\n",
    "    return True # We impose no practical abort constraint"
   ]
  },
  {
   "cell_type": "markdown",
   "id": "77ad0c87",
   "metadata": {},
   "source": [
    "The next line will register the activity `data_acquisition` by associating it with the `activity_function` previously defined `acquire_data_async` and by using the `constraint_func_async` as **constraint function**. It is up to the user to specify the power consumption in W for the activity. For Sentinel-2, the peak power of the imager is 266 W as reported in [Copernicus: Sentinel-2](https://www.eoportal.org/satellite-missions/copernicus-sentinel-2#space-segment.)"
   ]
  },
  {
   "cell_type": "code",
   "execution_count": null,
   "id": "d7236376",
   "metadata": {},
   "outputs": [],
   "source": [
    "# Register an activity that emulate data acquisition\n",
    "sim.register_activity(\n",
    "    \"data_acquisition\", activity_function=acquire_data_async, \n",
    "    power_consumption_in_watt=266, constraint_function=constraint_func_async\n",
    ")"
   ]
  },
  {
   "cell_type": "markdown",
   "id": "3ef06156",
   "metadata": {},
   "source": [
    "Similary, we can register an activity to perform the volcanic event detection. "
   ]
  },
  {
   "cell_type": "code",
   "execution_count": null,
   "id": "3f407f24",
   "metadata": {},
   "outputs": [],
   "source": [
    "output_event_bbox_info = [] # List of output bbox info\n",
    "\n",
    "async def detect_volcanic_eruptions_async(args):\n",
    "    # Fetch the inputs\n",
    "    image, image_coordinates = args[0][0],args[1][0]\n",
    "    # Detecting volcanic eruptions, returning their bounding boxes and their coordinates.\n",
    "    #Please, refer to utils.py.\n",
    "    bbox = s2pix_detector(image, image_coordinates)\n",
    "    # Store result\n",
    "    args[2][0] = bbox\n",
    "    await asyncio.sleep(1) #Assuming one second processing for the cropped tile.\n",
    "\n",
    "\n",
    "# Register an activity that emulate event detection\n",
    "sim.register_activity(\n",
    "    \"volcanic_event_detection\",\n",
    "    activity_function=detect_volcanic_eruptions_async,\n",
    "    power_consumption_in_watt=10,\n",
    "    constraint_function=constraint_func_async\n",
    ")"
   ]
  },
  {
   "cell_type": "markdown",
   "id": "2d3e30c0",
   "metadata": {},
   "source": [
    "Let's define now a new activity function `idle_state_async(idle_time_s)`, which is used to simulate an idle status for the satellite,  where the latter is neither acquiring data, neither processing data. `idle_time_s` is the idle time. The function will be also useful to showcase the `PASEOS` visualization for a longer time. To this aim, you can set `time_s` beyond 10s to extend the visualization plotting above. <br>"
   ]
  },
  {
   "cell_type": "code",
   "execution_count": null,
   "id": "0faf79c7",
   "metadata": {},
   "outputs": [],
   "source": [
    "async def idle_state_async(idle_time_s):\n",
    "    await asyncio.sleep(idle_time_s[0])"
   ]
  },
  {
   "cell_type": "markdown",
   "id": "1becfe8b",
   "metadata": {},
   "source": [
    "Let's now register the activity `idle_state` by using `constraint_func_async` as **constraint function**. We set up a not-zero `power_consumption_in_watt` for the activity to show you how the battery status is updated in the visualization. "
   ]
  },
  {
   "cell_type": "code",
   "execution_count": null,
   "id": "5459a2b3",
   "metadata": {},
   "outputs": [],
   "source": [
    "# Register an activity that emulate an idle state.\n",
    "sim.register_activity(\n",
    "    \"idle_state\", \n",
    "    activity_function=idle_state_async, \n",
    "    power_consumption_in_watt=20000, \n",
    "    constraint_function=constraint_func_async,\n",
    ")"
   ]
  },
  {
   "cell_type": "markdown",
   "id": "7f8b9b67",
   "metadata": {},
   "source": [
    "### 3.c) - Performing activities.\n",
    "\n",
    "We can now perform the activities. In scheduling the activities, we assume that data are acquired and stored into the mass memory to be, then, processed during the off part of the satellite duty cycle. Please, refer to: [Copernicus: Sentinel-2](https://www.eoportal.org/satellite-missions/copernicus-sentinel-2#space-segment.). <br> **N.B.** Notice that PASEOS only supports executing one activity at a time. To wait for the current one to finish, you can use `await sim.wait_for_activity()`."
   ]
  },
  {
   "cell_type": "code",
   "execution_count": null,
   "id": "50c006b7",
   "metadata": {},
   "outputs": [],
   "source": [
    "data_to_acquire=[\"Etna_00.tif\", \"La_Palma_02.tif\", \"Mayon_02.tif\"]\n",
    "\n",
    "\n",
    "#Data acquisition and processing\n",
    "print(\"Scroll up and take a look at the plotter.\")\n",
    "\n",
    "for n, data_name in zip(range(len(data_to_acquire)), data_to_acquire):\n",
    "    \n",
    "    #Defining temporary variables to store results of activity functions\n",
    "    data_acquired_tmp=[None]\n",
    "    data_acquired_coordinates_tmp=[None]\n",
    "    output_event_bbox_info_tmp=[None]\n",
    "    \n",
    "    # Run the activity\n",
    "    sim.perform_activity(\"idle_state\", activity_func_args=[10])\n",
    "    await sim.wait_for_activity()\n",
    "    \n",
    "    #Run the activity\n",
    "    sim.perform_activity(\"data_acquisition\", activity_func_args=[data_name, data_acquired_tmp, data_acquired_coordinates_tmp])\n",
    "    await sim.wait_for_activity()\n",
    "\n",
    "    #Run the activity\n",
    "    sim.perform_activity(\"volcanic_event_detection\", \n",
    "                               activity_func_args=[data_acquired_tmp, data_acquired_coordinates_tmp, output_event_bbox_info_tmp])\n",
    "    await sim.wait_for_activity()\n",
    "\n",
    "    #Storing results of the current iteration\n",
    "    data_acquired.append(data_acquired_tmp)\n",
    "    data_acquired_coordinates.append(data_acquired_coordinates_tmp)\n",
    "    output_event_bbox_info.append(output_event_bbox_info_tmp)\n",
    "    \n",
    "# Updating the plotter outside to show the final state after performing the activities\n",
    "plotter.update(sim)\n"
   ]
  },
  {
   "cell_type": "markdown",
   "id": "08173794",
   "metadata": {},
   "source": [
    "### 3.d) - Showing detected volcanic eruptions\n",
    "\n",
    "The next plot will show an example of onboard coarse volcanic eruptions detection on some Sentinel-2 L1C tiles. The different eruptions will be surrounded a bounding box, and their coordinates will be printed to raise an alert.\n",
    "\n",
    "The execution and rendering of the images may take a few minutes."
   ]
  },
  {
   "cell_type": "code",
   "execution_count": null,
   "id": "2d584c87",
   "metadata": {},
   "outputs": [],
   "source": [
    "bboxes, bbox_coordinates = output_event_bbox_info[n][0][0], output_event_bbox_info[n][0][1]"
   ]
  },
  {
   "cell_type": "code",
   "execution_count": null,
   "id": "85bbd3ac",
   "metadata": {
    "scrolled": false
   },
   "outputs": [],
   "source": [
    "fig, ax=plt.subplots(1,3,figsize=(10,4))\n",
    "\n",
    "for n in range(3):\n",
    "    ax[n].imshow(data_acquired[n][0])\n",
    "    \n",
    "    bboxes, bbox_coordinates = output_event_bbox_info[n][0][0], output_event_bbox_info[n][0][1]\n",
    "    for bbox in bboxes:\n",
    "        bbox=bbox.bbox\n",
    "        rect = patches.Rectangle((bbox[1], bbox[0]), abs(bbox[1]-bbox[3]), abs(bbox[0]-bbox[2]), linewidth=1, edgecolor='y', facecolor='none')\n",
    "        ax[n].add_patch(rect)\n",
    "    \n",
    "    for coords in bbox_coordinates:\n",
    "        print(\"ALERT! Eruption found at: \\n\\t Top left corner(lon, lat): \"+str(coords[0]) +\"\\n\\t bottom right corner(lon, lat): \"+str(coords[1])+\"\\n\")\n",
    "    print(\"\\n\")"
   ]
  }
 ],
 "metadata": {
  "kernelspec": {
   "display_name": "Python 3 (ipykernel)",
   "language": "python",
   "name": "python3"
  },
  "language_info": {
   "codemirror_mode": {
    "name": "ipython",
    "version": 3
   },
   "file_extension": ".py",
   "mimetype": "text/x-python",
   "name": "python",
   "nbconvert_exporter": "python",
   "pygments_lexer": "ipython3",
   "version": "3.10.8"
  },
  "vscode": {
   "interpreter": {
    "hash": "cec805858b69cacb2b7ad611a1d16c309b9d5c2fd3283013a8f0cd0423ba3fc5"
   }
  }
 },
 "nbformat": 4,
 "nbformat_minor": 5
}
